{
 "cells": [
  {
   "cell_type": "code",
   "execution_count": 26,
   "metadata": {},
   "outputs": [],
   "source": [
    "import sys\n",
    "import os\n",
    "# sys.path.append(os.path.dirname(__file__))\n",
    "\n",
    "import numpy as np\n",
    "import pandas as pd\n",
    "from service import Utils as Utils\n",
    "from service import GetFeature as GetFeature\n",
    "from service import Trainer as Trainer\n"
   ]
  },
  {
   "cell_type": "code",
   "execution_count": 2,
   "metadata": {},
   "outputs": [],
   "source": [
    "from iFeature.ifeature_func import get_ifeature"
   ]
  },
  {
   "cell_type": "code",
   "execution_count": 1,
   "metadata": {},
   "outputs": [
    {
     "data": {
      "text/plain": [
       "0"
      ]
     },
     "execution_count": 1,
     "metadata": {},
     "output_type": "execute_result"
    }
   ],
   "source": [
    "from amp_func import amp_feature\n",
    "from toxic_func import toxic_feature\n",
    "amp_feature('ACDEFGHIKLMNPQRSTVWY')"
   ]
  },
  {
   "cell_type": "code",
   "execution_count": 22,
   "metadata": {},
   "outputs": [],
   "source": [
    "datapath = os.path.join('./', 'HemoPI-3_AAC.csv')\n",
    "\n",
    "utils = Utils.Utils('Test')\n",
    "data = pd.read_csv(datapath)\n",
    "\n",
    "train_data = []\n",
    "train_label = []\n",
    "for k, v in data.iterrows():\n",
    "    train_data.append(list(v)[:-1])\n",
    "    train_label.append(list(v)[-1])\n",
    "train_label = [1 if single == 'hemo' else 0 for single in train_label]\n",
    "\n"
   ]
  },
  {
   "cell_type": "code",
   "execution_count": 27,
   "metadata": {},
   "outputs": [
    {
     "name": "stdout",
     "output_type": "stream",
     "text": [
      "RandomForestClassifier(n_jobs=4)\n",
      "Finished Training RandomForestClassifier Model and 100 Trees! \n",
      "\n"
     ]
    }
   ],
   "source": [
    "trainer = Trainer.Trainer(train_data, train_label)\n",
    "trainer.trainingModel()"
   ]
  },
  {
   "cell_type": "code",
   "execution_count": null,
   "metadata": {},
   "outputs": [],
   "source": [
    "import pickle"
   ]
  },
  {
   "cell_type": "code",
   "execution_count": 29,
   "metadata": {},
   "outputs": [
    {
     "name": "stdout",
     "output_type": "stream",
     "text": [
      "RandomForestClassifier(n_jobs=4)\n"
     ]
    }
   ],
   "source": [
    "clf = trainer.modelSelector(model='RandomForestClassifier', trees=100)\n",
    "trainer.fitModel(clf, './')"
   ]
  }
 ],
 "metadata": {
  "kernelspec": {
   "display_name": "maeseq",
   "language": "python",
   "name": "python3"
  },
  "language_info": {
   "codemirror_mode": {
    "name": "ipython",
    "version": 3
   },
   "file_extension": ".py",
   "mimetype": "text/x-python",
   "name": "python",
   "nbconvert_exporter": "python",
   "pygments_lexer": "ipython3",
   "version": "3.9.16"
  },
  "orig_nbformat": 4
 },
 "nbformat": 4,
 "nbformat_minor": 2
}
