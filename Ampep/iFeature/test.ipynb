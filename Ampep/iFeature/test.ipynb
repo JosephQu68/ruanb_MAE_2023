{
 "cells": [
  {
   "cell_type": "code",
   "execution_count": 1,
   "metadata": {},
   "outputs": [],
   "source": [
    "from ifeature_func import get_ifeature\n",
    "s = get_ifeature('KEGYLLGSRG', 'AAC')"
   ]
  },
  {
   "cell_type": "code",
   "execution_count": 8,
   "metadata": {},
   "outputs": [
    {
     "data": {
      "text/plain": [
       "['test',\n",
       " 0,\n",
       " 0,\n",
       " 0,\n",
       " 0.1,\n",
       " 0,\n",
       " 0.3,\n",
       " 0,\n",
       " 0,\n",
       " 0.1,\n",
       " 0.2,\n",
       " 0,\n",
       " 0,\n",
       " 0,\n",
       " 0,\n",
       " 0.1,\n",
       " 0.1,\n",
       " 0,\n",
       " 0,\n",
       " 0,\n",
       " 0.1]"
      ]
     },
     "execution_count": 8,
     "metadata": {},
     "output_type": "execute_result"
    }
   ],
   "source": [
    "s[1]"
   ]
  }
 ],
 "metadata": {
  "kernelspec": {
   "display_name": "maeseq",
   "language": "python",
   "name": "python3"
  },
  "language_info": {
   "codemirror_mode": {
    "name": "ipython",
    "version": 3
   },
   "file_extension": ".py",
   "mimetype": "text/x-python",
   "name": "python",
   "nbconvert_exporter": "python",
   "pygments_lexer": "ipython3",
   "version": "3.9.16"
  },
  "orig_nbformat": 4
 },
 "nbformat": 4,
 "nbformat_minor": 2
}
